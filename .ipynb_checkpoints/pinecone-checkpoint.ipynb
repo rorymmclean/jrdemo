{
 "cells": [
  {
   "cell_type": "code",
   "execution_count": null,
   "id": "09b1c703",
   "metadata": {
    "ExecuteTime": {
     "end_time": "2023-10-17T15:31:59.386346Z",
     "start_time": "2023-10-17T15:31:54.368582Z"
    }
   },
   "outputs": [],
   "source": [
    "!pip3 install pinecone-client"
   ]
  },
  {
   "cell_type": "code",
   "execution_count": 2,
   "id": "5c172f8f",
   "metadata": {
    "ExecuteTime": {
     "end_time": "2023-10-21T14:00:39.261517Z",
     "start_time": "2023-10-21T14:00:39.060779Z"
    }
   },
   "outputs": [
    {
     "data": {
      "text/plain": [
       "['stone']"
      ]
     },
     "execution_count": 2,
     "metadata": {},
     "output_type": "execute_result"
    }
   ],
   "source": [
    "import pinecone\n",
    "import warnings\n",
    "import streamlit as st\n",
    "from tqdm.autonotebook import tqdm\n",
    "\n",
    "warnings.filterwarnings('ignore')\n",
    "\n",
    "openai_api_key = st.secrets[\"OPENAI_API_KEY\"]\n",
    "pinecone_api_key = st.secrets[\"pinecone_api_key\"]\n",
    "pinecone_environment = st.secrets[\"pinecone_environment\"]\n",
    "\n",
    "\n",
    "pinecone.init(api_key=pinecone_api_key, environment=pinecone_environment)\n",
    "pinecone.list_indexes()"
   ]
  },
  {
   "cell_type": "code",
   "execution_count": 55,
   "id": "e320b5d3",
   "metadata": {
    "ExecuteTime": {
     "end_time": "2023-10-17T16:53:32.941616Z",
     "start_time": "2023-10-17T16:53:32.855546Z"
    }
   },
   "outputs": [
    {
     "data": {
      "text/plain": [
       "IndexDescription(name='stone', metric='euclidean', replicas=1, dimension=1536.0, shards=1, pods=1, pod_type='starter', status={'ready': False, 'state': 'Initializing'}, metadata_config=None, source_collection='')"
      ]
     },
     "execution_count": 55,
     "metadata": {},
     "output_type": "execute_result"
    }
   ],
   "source": [
    "pinecone.describe_index(\"stone\")"
   ]
  },
  {
   "cell_type": "code",
   "execution_count": 56,
   "id": "e8ec1c8c",
   "metadata": {
    "ExecuteTime": {
     "end_time": "2023-10-17T16:53:37.960496Z",
     "start_time": "2023-10-17T16:53:37.957445Z"
    }
   },
   "outputs": [],
   "source": [
    "index = pinecone.Index(\"stone\")"
   ]
  },
  {
   "cell_type": "code",
   "execution_count": 57,
   "id": "f892cc73",
   "metadata": {
    "ExecuteTime": {
     "end_time": "2023-10-17T16:53:44.310620Z",
     "start_time": "2023-10-17T16:53:44.260117Z"
    }
   },
   "outputs": [
    {
     "name": "stdout",
     "output_type": "stream",
     "text": [
      "Number of Chuncks: 514\n"
     ]
    }
   ],
   "source": [
    "from langchain.text_splitter import RecursiveCharacterTextSplitter\n",
    "\n",
    "filepath = \"/Users/rorymclean/Downloads/J. K. Rowling - Harry Potter 1 - Sorcerer's Stone.txt\"\n",
    "\n",
    "from langchain.document_loaders import TextLoader\n",
    "loader = TextLoader(filepath)\n",
    "documents = loader.load()\n",
    "\n",
    "text_splitter = RecursiveCharacterTextSplitter(chunk_size=1000, chunk_overlap=0)\n",
    "documents = text_splitter.split_documents(documents)\n",
    "\n",
    "print(f\"Number of Chuncks: {str(len(documents))}\")"
   ]
  },
  {
   "cell_type": "code",
   "execution_count": 59,
   "id": "88ad0f2b",
   "metadata": {
    "ExecuteTime": {
     "end_time": "2023-10-17T16:54:23.556724Z",
     "start_time": "2023-10-17T16:54:00.686296Z"
    }
   },
   "outputs": [],
   "source": [
    "from langchain.vectorstores import Pinecone\n",
    "from langchain.embeddings.openai import OpenAIEmbeddings\n",
    "\n",
    "embeddings = OpenAIEmbeddings()\n",
    "\n",
    "docsearch = Pinecone.from_documents(documents, embeddings, index_name='stone')"
   ]
  },
  {
   "cell_type": "code",
   "execution_count": 64,
   "id": "89f39010",
   "metadata": {
    "ExecuteTime": {
     "end_time": "2023-10-17T16:57:34.231019Z",
     "start_time": "2023-10-17T16:57:33.964481Z"
    }
   },
   "outputs": [
    {
     "name": "stdout",
     "output_type": "stream",
     "text": [
      "page_content='Harry turned this news over in his mind. He was starting to get a\\nprickle of fear every time You- Know-Who was mentioned. He supposed this\\nwas all part of entering the magical world, but it had been a lot more\\ncomfortable saying \"Voldemort\" without worrying.\\n\\n\"What\\'s your Quidditch team?\" Ron asked.\\n\\n\"Er -- I don\\'t know any,\" Harry confessed.\\n\\n\"What!\" Ron looked dumbfounded. \"Oh, you wait, it\\'s the best game in the\\nworld --\" And he was off, explaining all about the four balls and the\\npositions of the seven players, describing famous games he\\'d been to\\nwith his brothers and the broomstick he\\'d like to get if he had the\\nmoney. He was just taking Harry through the finer points of the game\\nwhen the compartment door slid open yet again, but it wasn\\'t Neville the\\ntoadless boy, or Hermione Granger this time.' metadata={'source': \"/Users/rorymclean/Downloads/J. K. Rowling - Harry Potter 1 - Sorcerer's Stone.txt\"}\n",
      "page_content='Harry was very relieved to find out that he wasn\\'t miles behind everyone\\nelse. Lots of people had come from Muggle families and, like him, hadn\\'t\\nhad any idea that they were witches and wizards. There was so much to\\nlearn that even people like Ron didn\\'t have much of a head start.\\n\\nFriday was an important day for Harry and Ron. They finally managed to\\nfind their way down to the Great Hall for breakfast without getting lost\\nonce.\\n\\n\"What have we got today?\" Harry asked Ron as he poured sugar on his\\nporridge.\\n\\n\"Double Potions with the Slytherins,\" said Ron. \"Snape\\'s Head of\\nSlytherin House. They say he always favors them -- we\\'ll be able to see\\nif it\\'s true.\"\\n\\n\"Wish McGonagall favored us, \" said Harry. Professor McGonagall was head\\nof Gryffindor House, but it hadn\\'t stopped her from giving them a huge\\npile of homework the day before.' metadata={'source': \"/Users/rorymclean/Downloads/J. K. Rowling - Harry Potter 1 - Sorcerer's Stone.txt\"}\n",
      "page_content=\"Harry and the Weasleys spent a happy afternoon having a furious snowball\\nfight on the grounds. Then, cold, wet, and gasping for breath, they\\nreturned to the fire in the Gryffindor common room, where Harry broke in\\nhis new chess set by losing spectacularly to Ron. He suspected he\\nwouldn't have lost so badly if Percy hadn't tried to help him so much.\\n\\nAfter a meal of turkey sandwiches, crumpets, trifle, and Christmas cake,\\neveryone felt too full and sleepy to do much before bed except sit and\\nwatch Percy chase Fred and George all over Gryffindor tower because\\nthey'd stolen his prefect badge.\\n\\nIt had been Harry's best Christmas day ever. Yet something had been\\nnagging at the back of his mind all day. Not until he climbed into bed\\nwas he free to think about it: the invisibility cloak and whoever had\\nsent it.\" metadata={'source': \"/Users/rorymclean/Downloads/J. K. Rowling - Harry Potter 1 - Sorcerer's Stone.txt\"}\n"
     ]
    }
   ],
   "source": [
    "query = \"Who are Harrys best friends?\"\n",
    "\n",
    "myoutput = docsearch.similarity_search(query, k=3)  # our search query  # return 3 most relevant docs\n",
    "\n",
    "for x in myoutput:\n",
    "    print(x)"
   ]
  },
  {
   "cell_type": "code",
   "execution_count": null,
   "id": "825595e5",
   "metadata": {},
   "outputs": [],
   "source": []
  },
  {
   "cell_type": "code",
   "execution_count": null,
   "id": "e092d4ee",
   "metadata": {},
   "outputs": [],
   "source": []
  },
  {
   "cell_type": "code",
   "execution_count": null,
   "id": "cd14e18a",
   "metadata": {},
   "outputs": [],
   "source": []
  },
  {
   "cell_type": "code",
   "execution_count": 70,
   "id": "c5d8e01c",
   "metadata": {
    "ExecuteTime": {
     "end_time": "2023-10-17T18:56:49.800088Z",
     "start_time": "2023-10-17T18:56:49.796762Z"
    }
   },
   "outputs": [],
   "source": [
    "embeddings = OpenAIEmbeddings()\n",
    "mysearch = Pinecone.from_existing_index(index_name='stone', embedding=embeddings)\n"
   ]
  },
  {
   "cell_type": "code",
   "execution_count": 77,
   "id": "77a266b9",
   "metadata": {
    "ExecuteTime": {
     "end_time": "2023-10-17T19:08:31.354742Z",
     "start_time": "2023-10-17T19:08:30.897328Z"
    }
   },
   "outputs": [],
   "source": [
    "docs = mysearch.similarity_search(\n",
    "    query, \n",
    "    k=8)\n"
   ]
  },
  {
   "cell_type": "code",
   "execution_count": 78,
   "id": "b39af5be",
   "metadata": {
    "ExecuteTime": {
     "end_time": "2023-10-17T19:08:32.261477Z",
     "start_time": "2023-10-17T19:08:32.258497Z"
    }
   },
   "outputs": [
    {
     "name": "stdout",
     "output_type": "stream",
     "text": [
      "Harry turned this news over in his mind. He was starting to get a\n",
      "prickle of fear every time You- Know-Who was mentioned. He supposed this\n",
      "was all part of entering the magical world, but it had been a lot more\n",
      "comfortable saying \"Voldemort\" without worrying.\n",
      "\n",
      "\"What's your Quidditch team?\" Ron asked.\n",
      "\n",
      "\"Er -- I don't know any,\" Harry confessed.\n",
      "\n",
      "\"What!\" Ron looked dumbfounded. \"Oh, you wait, it's the best game in the\n",
      "world --\" And he was off, explaining all about the four balls and the\n",
      "positions of the seven players, describing famous games he'd been to\n",
      "with his brothers and the broomstick he'd like to get if he had the\n",
      "money. He was just taking Harry through the finer points of the game\n",
      "when the compartment door slid open yet again, but it wasn't Neville the\n",
      "toadless boy, or Hermione Granger this time.\n",
      "Harry was very relieved to find out that he wasn't miles behind everyone\n",
      "else. Lots of people had come from Muggle families and, like him, hadn't\n",
      "had any idea that they were witches and wizards. There was so much to\n",
      "learn that even people like Ron didn't have much of a head start.\n",
      "\n",
      "Friday was an important day for Harry and Ron. They finally managed to\n",
      "find their way down to the Great Hall for breakfast without getting lost\n",
      "once.\n",
      "\n",
      "\"What have we got today?\" Harry asked Ron as he poured sugar on his\n",
      "porridge.\n",
      "\n",
      "\"Double Potions with the Slytherins,\" said Ron. \"Snape's Head of\n",
      "Slytherin House. They say he always favors them -- we'll be able to see\n",
      "if it's true.\"\n",
      "\n",
      "\"Wish McGonagall favored us, \" said Harry. Professor McGonagall was head\n",
      "of Gryffindor House, but it hadn't stopped her from giving them a huge\n",
      "pile of homework the day before.\n",
      "Harry and the Weasleys spent a happy afternoon having a furious snowball\n",
      "fight on the grounds. Then, cold, wet, and gasping for breath, they\n",
      "returned to the fire in the Gryffindor common room, where Harry broke in\n",
      "his new chess set by losing spectacularly to Ron. He suspected he\n",
      "wouldn't have lost so badly if Percy hadn't tried to help him so much.\n",
      "\n",
      "After a meal of turkey sandwiches, crumpets, trifle, and Christmas cake,\n",
      "everyone felt too full and sleepy to do much before bed except sit and\n",
      "watch Percy chase Fred and George all over Gryffindor tower because\n",
      "they'd stolen his prefect badge.\n",
      "\n",
      "It had been Harry's best Christmas day ever. Yet something had been\n",
      "nagging at the back of his mind all day. Not until he climbed into bed\n",
      "was he free to think about it: the invisibility cloak and whoever had\n",
      "sent it.\n",
      "\"I tell you, we're going to win that Quidditch cup for sure this year,\"\n",
      "said Fred. \"We haven't won since Charlie left, but this year's team is\n",
      "going to be brilliant. You must be good, Harry, Wood was almost skipping\n",
      "when he told us.\"\n",
      "\n",
      "\"Anyway, we've got to go, Lee Jordan reckons he's found a new secret\n",
      "passageway out of the school.\"\n",
      "\n",
      "\"Bet it's that one behind the statue of Gregory the Smarmy that we found\n",
      "in our first week. See you.\"\n",
      "\n",
      "Fred and George had hardly disappeared when someone far less welcome\n",
      "turned up: Malfoy, flanked by Crabbe and Goyle.\n",
      "\n",
      "\"Having a last meal, Potter? When are you getting the train back to the\n",
      "Muggles?\"\n",
      "\n",
      "\"You're a lot braver now that you're back on the ground and you've got\n",
      "your little friends with you,\" said Harry coolly. There was of course\n",
      "nothing at all little about Crabbe and Goyle, but as the High Table was\n",
      "full of teachers, neither of them could do more than crack their\n",
      "knuckles and scowl.\n",
      "It seemed to be a handsome, leather-covered book. Harry opened it\n",
      "curiously. It was full of wizard photographs. Smiling and waving at him\n",
      "from every page were his mother and father.\n",
      "\n",
      "\"Sent owls off ter all yer parents' old school friends, askin' fer\n",
      "photos... knew yeh didn' have any... d'yeh like it?\"\n",
      "\n",
      "Harry couldn't speak, but Hagrid understood.\n",
      "\n",
      "Harry made his way down to the end-of-year feast alone that night. He\n",
      "had been held up by Madam Pomfrey's fussing about, insisting on giving\n",
      "him one last checkup, so the Great Hall was already full. It was decked\n",
      "out in the Slytherin colors of green and silver to celebrate Slytherin's\n",
      "winning the house cup for the seventh year in a row. A huge banner\n",
      "showing the Slytherin serpent covered the wall behind the High Table.\n",
      "He could see the High Table properly now. At the end nearest him sat\n",
      "Hagrid, who caught his eye and gave him the thumbs up. Harry grinned\n",
      "back. And there, in the center of the High Table, in a large gold chair,\n",
      "sat Albus Dumbledore. Harry recognized him at once from the card he'd\n",
      "gotten out of the Chocolate Frog on the train. Dumbledore's silver hair\n",
      "was the only thing in the whole hall that shone as brightly as the\n",
      "ghosts. Harry spotted Professor Quirtell, too, the nervous young man\n",
      "from the Leaky Cauldron. He was looking very peculiar in a large purple\n",
      "turban.\n",
      "\n",
      "And now there were only three people left to be sorted. \"Thomas, Dean,\"\n",
      "a Black boy even taller than Ron, joined Harry at the Gryffindor table.\n",
      "\"Turpin, Lisa,\" became a Ravenclaw and then it was Ron's turn. He was\n",
      "pale green by now. Harry crossed his fingers under the table and a\n",
      "second later the hat had shouted, \"GRYFFINDOR!\"\n",
      "\n",
      "Harry clapped loudly with the rest as Ron collapsed into the chair next\n",
      "to him.\n",
      "Harry had the best morning he'd had in a long time. He was careful to\n",
      "walk a little way apart from the Dursleys so that Dudley and Piers, who\n",
      "were starting to get bored with the animals by lunchtime, wouldn't fall\n",
      "back on their favorite hobby of hitting him. They ate in the zoo\n",
      "restaurant, and when Dudley had a tantrum because his knickerbocker\n",
      "glory didn't have enough ice cream on top, Uncle Vernon bought him\n",
      "another one and Harry was allowed to finish the first.\n",
      "\n",
      "Harry felt, afterward, that he should have known it was all too good to\n",
      "last.\n",
      "\"Yes,\" said Harry, \"but I can't remember it.\"\n",
      "\n",
      "\"Nothing?\" said Ron eagerly.\n",
      "\n",
      "\"Well -- I remember a lot of green light, but nothing else.\"\n",
      "\n",
      "\"Wow,\" said Ron. He sat and stared at Harry for a few moments, then, as\n",
      "though he had suddenly realized what he was doing, he looked quickly out\n",
      "of the window again.\n",
      "\n",
      "\"Are all your family wizards?\" asked Harry, who found Ron just as\n",
      "interesting as Ron found him.\n",
      "\n",
      "\"Er -- Yes, I think so,\" said Ron. \"I think Mom's got a second cousin\n",
      "who's an accountant, but we never talk about him.\"\n",
      "\n",
      "\"So you must know loads of magic already.\"\n",
      "\n",
      "The Weasleys were clearly one of those old wizarding families the pale\n",
      "boy in Diagon Alley had talked about.\n",
      "\n",
      "\"I heard you went to live with Muggles,\" said Ron. \"What are they like?\"\n",
      "\n",
      "\"Horrible -well, not all of them. My aunt and uncle and cousin are,\n",
      "though. Wish I'd had three wizard brothers.\"\n"
     ]
    }
   ],
   "source": [
    "for x in docs:\n",
    "    print(x.page_content)\n"
   ]
  },
  {
   "cell_type": "code",
   "execution_count": null,
   "id": "5f5248fb",
   "metadata": {},
   "outputs": [],
   "source": []
  }
 ],
 "metadata": {
  "kernelspec": {
   "display_name": "Python 3 (ipykernel)",
   "language": "python",
   "name": "python3"
  },
  "language_info": {
   "codemirror_mode": {
    "name": "ipython",
    "version": 3
   },
   "file_extension": ".py",
   "mimetype": "text/x-python",
   "name": "python",
   "nbconvert_exporter": "python",
   "pygments_lexer": "ipython3",
   "version": "3.11.3"
  },
  "latex_envs": {
   "LaTeX_envs_menu_present": true,
   "autoclose": false,
   "autocomplete": true,
   "bibliofile": "biblio.bib",
   "cite_by": "apalike",
   "current_citInitial": 1,
   "eqLabelWithNumbers": true,
   "eqNumInitial": 1,
   "hotkeys": {
    "equation": "Ctrl-E",
    "itemize": "Ctrl-I"
   },
   "labels_anchors": false,
   "latex_user_defs": false,
   "report_style_numbering": false,
   "user_envs_cfg": false
  },
  "toc": {
   "base_numbering": 1,
   "nav_menu": {},
   "number_sections": true,
   "sideBar": true,
   "skip_h1_title": false,
   "title_cell": "Table of Contents",
   "title_sidebar": "Contents",
   "toc_cell": false,
   "toc_position": {},
   "toc_section_display": true,
   "toc_window_display": false
  },
  "varInspector": {
   "cols": {
    "lenName": 16,
    "lenType": 16,
    "lenVar": 40
   },
   "kernels_config": {
    "python": {
     "delete_cmd_postfix": "",
     "delete_cmd_prefix": "del ",
     "library": "var_list.py",
     "varRefreshCmd": "print(var_dic_list())"
    },
    "r": {
     "delete_cmd_postfix": ") ",
     "delete_cmd_prefix": "rm(",
     "library": "var_list.r",
     "varRefreshCmd": "cat(var_dic_list()) "
    }
   },
   "types_to_exclude": [
    "module",
    "function",
    "builtin_function_or_method",
    "instance",
    "_Feature"
   ],
   "window_display": false
  }
 },
 "nbformat": 4,
 "nbformat_minor": 5
}
